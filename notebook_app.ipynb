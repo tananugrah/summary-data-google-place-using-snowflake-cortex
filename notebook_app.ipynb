{
 "cells": [
  {
   "cell_type": "code",
   "execution_count": null,
   "id": "3775908f-ca36-4846-8f38-5adca39217f2",
   "metadata": {
    "collapsed": false,
    "language": "python",
    "name": "cell1"
   },
   "outputs": [],
   "source": [
    "# Import python packages\n",
    "import streamlit as st\n",
    "import pandas as pd\n",
    "import seaborn as sns\n",
    "import matplotlib.pyplot as plt\n",
    "\n",
    "# Snowpark\n",
    "from snowflake.snowpark.context import get_active_session\n",
    "import snowflake.snowpark.functions as F\n",
    "from snowflake.snowpark.functions import when, date_part \n",
    "\n",
    "# Cortex Functions\n",
    "import snowflake.cortex  as cortex\n",
    "\n",
    "session = get_active_session()\n"
   ]
  },
  {
   "cell_type": "code",
   "execution_count": null,
   "id": "8d50cbf4-0c8d-4950-86cb-114990437ac9",
   "metadata": {
    "collapsed": false,
    "language": "python",
    "name": "cell2"
   },
   "outputs": [],
   "source": [
    "# check connection to table\n",
    "reviews_df = session.table('TEST.DATAMART.GOOGLE_PLACE_REVIEW') \n",
    "reviews_df.show(5)"
   ]
  },
  {
   "cell_type": "markdown",
   "id": "96b3ae13",
   "metadata": {},
   "source": [
    "Untuk Enable Cortex dan mengizinkan wilayah Snowflake mana pun yang mendukung permintaan inferensi lintas wilayah untuk memproses. tetapkan parameter ke 'ANY_REGION'."
   ]
  },
  {
   "cell_type": "code",
   "execution_count": null,
   "id": "a37bacbc",
   "metadata": {
    "vscode": {
     "languageId": "sql"
    }
   },
   "outputs": [],
   "source": [
    "ALTER ACCOUNT SET CORTEX_ENABLED_CROSS_REGION = 'ANY_REGION';"
   ]
  },
  {
   "cell_type": "code",
   "execution_count": null,
   "id": "268a005f-cb09-4109-9cb8-ad9b514bd6a4",
   "metadata": {
    "language": "python",
    "name": "cell5"
   },
   "outputs": [],
   "source": [
    "from snowflake.snowpark.functions import col\n",
    "\n",
    "filtered_reviews_df = reviews_df.filter(F.col('REVIEW_TRANSLATED_TEXT').is_not_null())\n",
    "\n",
    "# Step 2: Define the prompt template for summary generation\n",
    "prompt_template = \"\"\"\n",
    "Summarize the following Google Places user reviews for a logistics company into short, concise statements that highlight the key experiences using only the following categories:\n",
    "\"Fast Delivery,\" \"Late Delivery,\" \"Damaged Package,\" \"Lost Package,\" \"Unresponsive Customer Service,\" \"Inaccurate Tracking Information,\" \"High Shipping Costs,\" \"Poor Packaging,\" \"Friendly Staff,\" and \"Failed Delivery Attempts.\"\n",
    "\n",
    "Make sure each summary reflects the most important aspect of the user experience related to the logistics and shipping service.\n",
    "\n",
    "Include the user rating and how it correlates to their experience in the summary.\n",
    "\n",
    "Answers should only be strings in the format json: [{\"Summary\": \"[insert summary of user experience].\" \"Sentiment\": \"[positive, negative, or neutral].\" \"Key Experience\": \"[relevant categories, separated by commas]\"}]\n",
    "\"\"\"\n",
    "\n",
    "# Step 3: Create the CATEGORY_SENTIMENT column using Cortex and prompt template\n",
    "reviews_with_sentiment_df = filtered_reviews_df.withColumn(\n",
    "    'CATEGORY_SENTIMENT',\n",
    "    cortex.Complete(\n",
    "        'llama3.1-70b',\n",
    "        F.expr(f\"concat('{prompt_template}', 'Review: ', REVIEW_TRANSLATED_TEXT, '\\\\nRating: ', RATING, '\\\\nAnswer:[/INST]')\")\n",
    "    )\n",
    ")\n",
    "\n",
    "# Step 4: Display the resulting DataFrame\n",
    "reviews_with_sentiment_df.show(10)\n",
    "# Step 5 : Write data to table\n",
    "reviews_with_sentiment_df.write.mode(\"overwrite\").save_as_table(\"TEST.DATAMART.REVIEW_GOOGLE\")\n"
   ]
  },
  {
   "cell_type": "code",
   "execution_count": null,
   "id": "29164d7e-a2d0-478e-8756-696fceb18c4d",
   "metadata": {
    "collapsed": false,
    "language": "python",
    "name": "cell6"
   },
   "outputs": [],
   "source": [
    "\n",
    "# using mistral-large-2\n",
    "from snowflake.snowpark.functions import col\n",
    "\n",
    "filtered_reviews_df = reviews_df.filter(F.col('REVIEW_TRANSLATED_TEXT').is_not_null())\n",
    "\n",
    "# Step 2: Define the prompt template for summary generation\n",
    "prompt_template = \"\"\"\n",
    "Summarize the following Google Places user reviews for a logistics company into short, concise statements that highlight the key experiences using only the following categories:\n",
    "\"Fast Delivery,\" \"Late Delivery,\" \"Damaged Package,\" \"Lost Package,\" \"Unresponsive Customer Service,\" \"Inaccurate Tracking Information,\" \"High Shipping Costs,\" \"Poor Packaging,\" \"Friendly Staff,\" and \"Failed Delivery Attempts.\"\n",
    "\n",
    "Make sure each summary reflects the most important aspect of the user experience related to the logistics and shipping service.\n",
    "\n",
    "Include the user rating and how it correlates to their experience in the summary.\n",
    "\n",
    "Answers should only be strings in the format json: [{\"Summary\": \"[insert summary of user experience].\" \"Sentiment\": \"[positive, negative, or neutral].\" \"Key Experience\": \"[relevant categories, separated by commas]\"}]\n",
    "\"\"\"\n",
    "\n",
    "# Step 3: Create the CATEGORY_SENTIMENT column using Cortex and prompt template\n",
    "reviews_with_sentiment_df = filtered_reviews_df.withColumn(\n",
    "    'CATEGORY_SENTIMENT_2',\n",
    "    cortex.Complete(\n",
    "        'mistral-large2',\n",
    "        F.expr(f\"concat('{prompt_template}', 'Review: ', REVIEW_TRANSLATED_TEXT, '\\\\nRating: ', RATING)\")\n",
    "    )\n",
    ")\n",
    "\n",
    "# Step 4: Display the resulting DataFrame\n",
    "reviews_with_sentiment_df.show(10)\n",
    "selected_columns_df = reviews_with_sentiment_df.select('REVIEW_ID', 'CATEGORY_SENTIMENT_2')\n",
    "pandasdf = selected_columns_df\n",
    "\n",
    "pandasdf.show(5)\n",
    "customer_wrt = pandasdf.write.mode(\"overwrite\").save_as_table(\"TEST.DATAMART.GOOGLE_SUMMARY_2\" ,table_type=\"transient\")"
   ]
  }
 ],
 "metadata": {
  "kernelspec": {
   "display_name": "Streamlit Notebook",
   "name": "streamlit"
  }
 },
 "nbformat": 4,
 "nbformat_minor": 5
}

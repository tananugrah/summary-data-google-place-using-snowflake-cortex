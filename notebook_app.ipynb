{
 "metadata": {
  "kernelspec": {
   "display_name": "Streamlit Notebook",
   "name": "streamlit"
  }
 },
 "nbformat_minor": 5,
 "nbformat": 4,
 "cells": [
  {
   "cell_type": "code",
   "id": "3775908f-ca36-4846-8f38-5adca39217f2",
   "metadata": {
    "language": "python",
    "name": "cell1",
    "collapsed": false
   },
   "source": "# Import python packages\nimport streamlit as st\nimport pandas as pd\nimport seaborn as sns\nimport matplotlib.pyplot as plt\n\n# Snowpark\nfrom snowflake.snowpark.context import get_active_session\nimport snowflake.snowpark.functions as F\nfrom snowflake.snowpark.functions import when, date_part \n\n# Cortex Functions\nimport snowflake.cortex  as cortex\n\nsession = get_active_session()\n",
   "execution_count": null,
   "outputs": []
  },
  {
   "cell_type": "code",
   "id": "8d50cbf4-0c8d-4950-86cb-114990437ac9",
   "metadata": {
    "language": "python",
    "name": "cell2",
    "collapsed": false
   },
   "source": "reviews_df = session.table('TEST.DATAMART.GOOGLE_PLACE_REVIEW') \nreviews_df.show(5)",
   "execution_count": null,
   "outputs": []
  },
  {
   "cell_type": "code",
   "id": "fc582b72-03e4-4ae3-8410-c47befbdc2f3",
   "metadata": {
    "language": "sql",
    "name": "cell4"
   },
   "outputs": [],
   "source": "select REVIEW_TRANSLATED_TEXT from test.datamart.google_place_review\nwhere review_id = 'ChdDSUhNMG9nS0VJQ0FnSURibDluVC1RRRAB';",
   "execution_count": null
  },
  {
   "cell_type": "code",
   "id": "268a005f-cb09-4109-9cb8-ad9b514bd6a4",
   "metadata": {
    "language": "python",
    "name": "cell5"
   },
   "outputs": [],
   "source": "from snowflake.snowpark.functions import col\n\nfiltered_reviews_df = reviews_df.filter(F.col('REVIEW_TRANSLATED_TEXT').is_not_null())\n\n# Step 2: Define the prompt template for summary generation\nprompt_template = \"\"\"\nSummarize the following Google Places user reviews for a logistics company into short, concise statements that highlight the key experiences using only the following categories:\n\"Fast Delivery,\" \"Late Delivery,\" \"Damaged Package,\" \"Lost Package,\" \"Unresponsive Customer Service,\" \"Inaccurate Tracking Information,\" \"High Shipping Costs,\" \"Poor Packaging,\" \"Friendly Staff,\" and \"Failed Delivery Attempts.\"\n\nMake sure each summary reflects the most important aspect of the user experience related to the logistics and shipping service.\n\nInclude the user rating and how it correlates to their experience in the summary.\n\nAnswers should only be strings in the format json: [{\"Summary\": \"[insert summary of user experience].\" \"Sentiment\": \"[positive, negative, or neutral].\" \"Key Experience\": \"[relevant categories, separated by commas]\"}]\n\"\"\"\n\n# Step 3: Create the CATEGORY_SENTIMENT column using Cortex and prompt template\nreviews_with_sentiment_df = filtered_reviews_df.withColumn(\n    'CATEGORY_SENTIMENT',\n    cortex.Complete(\n        'llama3.1-70b',\n        F.expr(f\"concat('{prompt_template}', 'Review: ', REVIEW_TRANSLATED_TEXT, '\\\\nRating: ', RATING, '\\\\nAnswer:[/INST]')\")\n    )\n)\n\n# Step 4: Display the resulting DataFrame\nreviews_with_sentiment_df.show(10)\n# reviews_with_sentiment_df.write.mode(\"overwrite\").save_as_table(\"TEST.DATAMART.REVIEW_GOOGLE\")\n",
   "execution_count": null
  },
  {
   "cell_type": "code",
   "id": "dcb8b4cc-213e-4be0-ac52-d3c9fe2cd008",
   "metadata": {
    "language": "python",
    "name": "cell8"
   },
   "outputs": [],
   "source": "# reviews_with_sentiment_df.count()\n# reviews_with_sentiment_df.show(10)\nselected_columns_df = reviews_with_sentiment_df.select('REVIEW_ID', 'CATEGORY_SENTIMENT')\n\n# Menampilkan DataFrame dengan kolom yang dipilih\n# selected_columns_df.show(10)\n# selected_columns_df.toPandas().to_csv('selected_columns.csv', index=False)\npandasdf = selected_columns_df\n# selected_columns_df.toPandas().to_csv('selected_columns.csv', index=False)\npandasdf.show(5)\ncustomer_wrt = pandasdf.write.mode(\"overwrite\").save_as_table(\"TEST.DATAMART.GOOGLE_SUMMARY\" ,table_type=\"transient\")",
   "execution_count": null
  },
  {
   "cell_type": "code",
   "id": "29164d7e-a2d0-478e-8756-696fceb18c4d",
   "metadata": {
    "language": "python",
    "name": "cell6",
    "collapsed": false
   },
   "outputs": [],
   "source": "from snowflake.snowpark.functions import col\n\nfiltered_reviews_df = reviews_df.filter(F.col('REVIEW_TRANSLATED_TEXT').is_not_null())\n\n# Step 2: Define the prompt template for summary generation\nprompt_template = \"\"\"\nSummarize the following Google Places user reviews for a logistics company into short, concise statements that highlight the key experiences using only the following categories:\n\"Fast Delivery,\" \"Late Delivery,\" \"Damaged Package,\" \"Lost Package,\" \"Unresponsive Customer Service,\" \"Inaccurate Tracking Information,\" \"High Shipping Costs,\" \"Poor Packaging,\" \"Friendly Staff,\" and \"Failed Delivery Attempts.\"\n\nMake sure each summary reflects the most important aspect of the user experience related to the logistics and shipping service.\n\nInclude the user rating and how it correlates to their experience in the summary.\n\nAnswers should only be strings in the format json: [{\"Summary\": \"[insert summary of user experience].\" \"Sentiment\": \"[positive, negative, or neutral].\" \"Key Experience\": \"[relevant categories, separated by commas]\"}]\n\"\"\"\n\n# Step 3: Create the CATEGORY_SENTIMENT column using Cortex and prompt template\nreviews_with_sentiment_df = filtered_reviews_df.withColumn(\n    'CATEGORY_SENTIMENT_2',\n    cortex.Complete(\n        'mistral-large2',\n        F.expr(f\"concat('{prompt_template}', 'Review: ', REVIEW_TRANSLATED_TEXT, '\\\\nRating: ', RATING)\")\n    )\n)\n\n# Step 4: Display the resulting DataFrame\nreviews_with_sentiment_df.show(10)\nselected_columns_df = reviews_with_sentiment_df.select('REVIEW_ID', 'CATEGORY_SENTIMENT_2')\npandasdf = selected_columns_df\n\npandasdf.show(5)\ncustomer_wrt = pandasdf.write.mode(\"overwrite\").save_as_table(\"TEST.DATAMART.GOOGLE_SUMMARY_2\" ,table_type=\"transient\")",
   "execution_count": null
  },
  {
   "cell_type": "code",
   "id": "e66a77bf-26fc-4d99-988f-647b65a029d7",
   "metadata": {
    "language": "python",
    "name": "cell10"
   },
   "outputs": [],
   "source": "# reviews_df = reviews_df.withColumn('SUMMARIZE', cortex.Summarize(F.col('REVIEW_TRANSLATED_TEXT')))\n\n# reviews_df.select([\"REVIEW_TRANSLATED_TEXT\",\"SUMMARIZE\"]).show(3)\n\nreviews_df = reviews_df.withColumn(\n    'SUMMARIZE',\n    cortex.Summarize(\n        F.concat(\n            F.col('REVIEW_TRANSLATED_TEXT'), \n            F.lit(' | Rating: '), \n            F.col('RATING')\n        )\n    )\n)\n\n# Menampilkan DataFrame dengan kolom baru\nreviews_df.select([\"RATING\",\"REVIEW_TRANSLATED_TEXT\",\"SUMMARIZE\"]).show(10)\n",
   "execution_count": null
  },
  {
   "cell_type": "code",
   "id": "303e33e2-e736-4ef6-b03e-23182b286158",
   "metadata": {
    "language": "python",
    "name": "cell9"
   },
   "outputs": [],
   "source": "",
   "execution_count": null
  },
  {
   "cell_type": "code",
   "id": "d92d491f-612c-430c-9b71-d97ad3333ca1",
   "metadata": {
    "language": "python",
    "name": "cell7"
   },
   "outputs": [],
   "source": "",
   "execution_count": null
  },
  {
   "cell_type": "code",
   "id": "c695373e-ac74-4b62-a1f1-08206cbd5c81",
   "metadata": {
    "language": "python",
    "name": "cell3",
    "codeCollapsed": false
   },
   "source": "filtered_reviews_df = reviews_df.filter(F.col('REVIEW_TRANSLATED_TEXT').is_not_null())\n\n# Add CATEGORY_SENTIMENT column using Cortex\nprompt = \"\"\"Summarize the following Google Place user reviews for a logistics outlet into brief, concise statements that highlight key experiences such as delivery speed, package handling, customer service, reliability, and pricing. Capture the overall sentiment and any recurring issues or praise (e.g., delays, damaged packages, friendly staff). Ensure each summary reflects the most important aspects of the user's experience in relation to logistics and shipping services.\"\"\"\n\nreviews_with_sentiment_df = filtered_reviews_df.withColumn(\n    'CATEGORY_SENTIMENT',\n    cortex.Complete(\n        'llama3.1-70b', \n        F.concat(\n            F.lit(prompt), \n            F.col('REVIEW_TRANSLATED_TEXT'), \n            F.lit(\"\"\"Answer:[/INST]\"\"\")\n        )\n    )\n)\n\n# Show the resulting DataFrame\nreviews_with_sentiment_df.show(10)",
   "execution_count": null,
   "outputs": []
  }
 ]
}